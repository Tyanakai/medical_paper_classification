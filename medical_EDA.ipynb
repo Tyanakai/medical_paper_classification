{
  "nbformat": 4,
  "nbformat_minor": 0,
  "metadata": {
    "colab": {
      "name": "medical_EDA.ipynb",
      "provenance": [],
      "collapsed_sections": [],
      "toc_visible": true,
      "mount_file_id": "1gUXxlpa03QDPz-3dDnq20jB1UyBJinVB",
      "authorship_tag": "ABX9TyMt8ID6u2Fa26ach74QZMev",
      "include_colab_link": true
    },
    "kernelspec": {
      "name": "python3",
      "display_name": "Python 3"
    },
    "language_info": {
      "name": "python"
    }
  },
  "cells": [
    {
      "cell_type": "markdown",
      "metadata": {
        "id": "view-in-github",
        "colab_type": "text"
      },
      "source": [
        "<a href=\"https://colab.research.google.com/github/Tyanakai/medical_paper_classification/blob/main/medical_EDA.ipynb\" target=\"_parent\"><img src=\"https://colab.research.google.com/assets/colab-badge.svg\" alt=\"Open In Colab\"/></a>"
      ]
    },
    {
      "cell_type": "markdown",
      "metadata": {
        "id": "1hsh5PdO-bnU"
      },
      "source": [
        "\n",
        "<h1>医学論文の自動仕分けチャレンジ データ概観</h1>"
      ]
    },
    {
      "cell_type": "markdown",
      "metadata": {
        "id": "JhbP2t0SEUjS"
      },
      "source": [
        "# 1. はじめに\n",
        "\n",
        "　本ノートブックは、SIGNATE上で開催された、文章分類コンペティション[医学論文の自動仕分けチャレンジ](https://signate.jp/competitions/471)で用いられた訓練データ(train.csv)、及び検証データ(test.csv)を概観し、分析します。又、各データにおける文字化けや欠損値の処理を行います。  \n",
        "　尚、colabratory上での実行を想定しています。\n"
      ]
    },
    {
      "cell_type": "markdown",
      "metadata": {
        "id": "0oHoOAjfEXFc"
      },
      "source": [
        "# 2. 事前の準備\n",
        "\n",
        "\n",
        "- データをGoogleDriveにアップロード（`train.csv`,`test.csv`"
      ]
    },
    {
      "cell_type": "markdown",
      "metadata": {
        "id": "kBBSf70SEg7S"
      },
      "source": [
        "# 3. コンペティションの概要\n",
        "\n",
        "　コンペティションのタスクは、論文のタイトル（`title`）および抄録(`abstract`)のテキストデータを用いて、その論文が「診断精度研究」と呼ばれる学術分野に該当する文献か否か(`judgement = 0 or 1`)を判定するものとなっています。\n"
      ]
    },
    {
      "cell_type": "markdown",
      "metadata": {
        "id": "4bnDJlsPsIDl"
      },
      "source": [
        "# 4. 処理フロー\n",
        "\n",
        "1. GoogleDriveのマウント\n",
        "2. ライブラリのインポート\n",
        "3. データのロード、概観、前処理\n",
        "4. データ分析\n",
        "5. データ保存\n",
        "\n",
        "<br>\n",
        "\n",
        "### 処理ごとの目的と入出力一覧\n",
        "\n",
        "|項番|目的|入力|出力|\n",
        "|:-:|:--|:--|:--|\n",
        "|1|GoogleDriveのマウント|−|−|\n",
        "|2|ライブラリのインポート|−|−|\n",
        "|3|データのロード、概観、前処理|ファイルパス(.csv)|pandas.DataFrame|\n",
        "|4|各column毎に分布等を調べる|pandas.DataFrame|データの統計|\n",
        "|5|保存|pandas.DataFrame||\n"
      ]
    },
    {
      "cell_type": "markdown",
      "metadata": {
        "id": "yaFxf0HnasPA"
      },
      "source": [
        "# 5. 実行"
      ]
    },
    {
      "cell_type": "markdown",
      "metadata": {
        "id": "qkacXjZua5Kq"
      },
      "source": [
        "## 5.1 Google Driveのマウント"
      ]
    },
    {
      "cell_type": "code",
      "metadata": {
        "colab": {
          "base_uri": "https://localhost:8080/"
        },
        "id": "r4nwuzS5a4rG",
        "outputId": "b75f37ff-668d-4a5c-ccb8-5400cc64bf98"
      },
      "source": [
        "from google.colab import drive\n",
        "drive.mount('/content/drive')"
      ],
      "execution_count": null,
      "outputs": [
        {
          "output_type": "stream",
          "name": "stdout",
          "text": [
            "Drive already mounted at /content/drive; to attempt to forcibly remount, call drive.mount(\"/content/drive\", force_remount=True).\n"
          ]
        }
      ]
    },
    {
      "cell_type": "markdown",
      "metadata": {
        "id": "wLb5xPI2bEJA"
      },
      "source": [
        "## 5.2. ライブラリのインポート\n",
        "　必要となるライブラリをインポートします。\n"
      ]
    },
    {
      "cell_type": "code",
      "metadata": {
        "id": "hwsSnoyPcW6d"
      },
      "source": [
        "from collections import Counter\n",
        "import os\n",
        "import re\n",
        "from typing import List\n",
        "\n",
        "from matplotlib import pyplot as plt\n",
        "import nltk\n",
        "import numpy as np\n",
        "import pandas as pd\n",
        "import seaborn as sns\n",
        "from tqdm.notebook import tqdm"
      ],
      "execution_count": null,
      "outputs": []
    },
    {
      "cell_type": "markdown",
      "metadata": {
        "id": "dYP6TcAiz8WN"
      },
      "source": [
        "## 5.3 データロード、概観、前処理"
      ]
    },
    {
      "cell_type": "markdown",
      "metadata": {
        "id": "PZh3uoy3cTew"
      },
      "source": [
        "### 5.3.1 データのロード\n",
        "pathを設定しデータをロードします。"
      ]
    },
    {
      "cell_type": "code",
      "metadata": {
        "id": "6Zt1Pcy8cSuQ"
      },
      "source": [
        "DRIVE = \"/content/drive/MyDrive/signate/medical_paper\"\n",
        "INPUT = os.path.join(DRIVE, \"input\")\n",
        "OUTPUT = os.path.join(DRIVE, \"output\")\n",
        "\n",
        "train_df = pd.read_csv(os.path.join(INPUT, \"train.csv\"))\n",
        "test_df = pd.read_csv(os.path.join(INPUT, \"test.csv\"))"
      ],
      "execution_count": null,
      "outputs": []
    },
    {
      "cell_type": "markdown",
      "metadata": {
        "id": "iTzkzjnDdSS3"
      },
      "source": [
        "### 5.3.2 データ概観\n",
        "train_df, test_df 共に、データ重複の可能性は低く、\"abstract\"に欠損値が見られます。"
      ]
    },
    {
      "cell_type": "code",
      "metadata": {
        "colab": {
          "base_uri": "https://localhost:8080/"
        },
        "id": "FLwFXr56hqz6",
        "outputId": "08328a6f-46d7-46b3-e0bd-08273e49ad62"
      },
      "source": [
        "train_df.shape, test_df.shape"
      ],
      "execution_count": null,
      "outputs": [
        {
          "output_type": "execute_result",
          "data": {
            "text/plain": [
              "((27145, 4), (40834, 3))"
            ]
          },
          "metadata": {},
          "execution_count": 4
        }
      ]
    },
    {
      "cell_type": "code",
      "metadata": {
        "colab": {
          "base_uri": "https://localhost:8080/"
        },
        "id": "9uP0R1Khdae0",
        "outputId": "f6d623c4-b5c4-404a-b384-3fb378406f04"
      },
      "source": [
        "train_df.head()"
      ],
      "execution_count": null,
      "outputs": [
        {
          "output_type": "execute_result",
          "data": {
            "text/html": [
              "<div>\n",
              "<style scoped>\n",
              "    .dataframe tbody tr th:only-of-type {\n",
              "        vertical-align: middle;\n",
              "    }\n",
              "\n",
              "    .dataframe tbody tr th {\n",
              "        vertical-align: top;\n",
              "    }\n",
              "\n",
              "    .dataframe thead th {\n",
              "        text-align: right;\n",
              "    }\n",
              "</style>\n",
              "<table border=\"1\" class=\"dataframe\">\n",
              "  <thead>\n",
              "    <tr style=\"text-align: right;\">\n",
              "      <th></th>\n",
              "      <th>id</th>\n",
              "      <th>title</th>\n",
              "      <th>abstract</th>\n",
              "      <th>judgement</th>\n",
              "    </tr>\n",
              "  </thead>\n",
              "  <tbody>\n",
              "    <tr>\n",
              "      <th>0</th>\n",
              "      <td>0</td>\n",
              "      <td>One-year age changes in MRI brain volumes in o...</td>\n",
              "      <td>Longitudinal studies indicate that declines in...</td>\n",
              "      <td>0</td>\n",
              "    </tr>\n",
              "    <tr>\n",
              "      <th>1</th>\n",
              "      <td>1</td>\n",
              "      <td>Supportive CSF biomarker evidence to enhance t...</td>\n",
              "      <td>The present study was undertaken to validate t...</td>\n",
              "      <td>0</td>\n",
              "    </tr>\n",
              "    <tr>\n",
              "      <th>2</th>\n",
              "      <td>2</td>\n",
              "      <td>Occurrence of basal ganglia germ cell tumors w...</td>\n",
              "      <td>Objective: To report a case series in which ba...</td>\n",
              "      <td>0</td>\n",
              "    </tr>\n",
              "    <tr>\n",
              "      <th>3</th>\n",
              "      <td>3</td>\n",
              "      <td>New developments in diagnosis and therapy of C...</td>\n",
              "      <td>The etiology and pathogenesis of idiopathic ch...</td>\n",
              "      <td>0</td>\n",
              "    </tr>\n",
              "    <tr>\n",
              "      <th>4</th>\n",
              "      <td>4</td>\n",
              "      <td>Prolonged shedding of SARS-CoV-2 in an elderly...</td>\n",
              "      <td>NaN</td>\n",
              "      <td>0</td>\n",
              "    </tr>\n",
              "  </tbody>\n",
              "</table>\n",
              "</div>"
            ],
            "text/plain": [
              "   id  ... judgement\n",
              "0   0  ...         0\n",
              "1   1  ...         0\n",
              "2   2  ...         0\n",
              "3   3  ...         0\n",
              "4   4  ...         0\n",
              "\n",
              "[5 rows x 4 columns]"
            ]
          },
          "metadata": {},
          "execution_count": 5
        }
      ]
    },
    {
      "cell_type": "code",
      "metadata": {
        "colab": {
          "base_uri": "https://localhost:8080/"
        },
        "id": "DugCxarSdacP",
        "outputId": "969e88d8-1fbc-4bc5-ccae-83e64c62a6d0"
      },
      "source": [
        "test_df.head()"
      ],
      "execution_count": null,
      "outputs": [
        {
          "output_type": "execute_result",
          "data": {
            "text/html": [
              "<div>\n",
              "<style scoped>\n",
              "    .dataframe tbody tr th:only-of-type {\n",
              "        vertical-align: middle;\n",
              "    }\n",
              "\n",
              "    .dataframe tbody tr th {\n",
              "        vertical-align: top;\n",
              "    }\n",
              "\n",
              "    .dataframe thead th {\n",
              "        text-align: right;\n",
              "    }\n",
              "</style>\n",
              "<table border=\"1\" class=\"dataframe\">\n",
              "  <thead>\n",
              "    <tr style=\"text-align: right;\">\n",
              "      <th></th>\n",
              "      <th>id</th>\n",
              "      <th>title</th>\n",
              "      <th>abstract</th>\n",
              "    </tr>\n",
              "  </thead>\n",
              "  <tbody>\n",
              "    <tr>\n",
              "      <th>0</th>\n",
              "      <td>27145</td>\n",
              "      <td>Estimating the potential effects of COVID-19 p...</td>\n",
              "      <td>The objective of the paper is to analyse chang...</td>\n",
              "    </tr>\n",
              "    <tr>\n",
              "      <th>1</th>\n",
              "      <td>27146</td>\n",
              "      <td>Leukoerythroblastic reaction in a patient with...</td>\n",
              "      <td>NaN</td>\n",
              "    </tr>\n",
              "    <tr>\n",
              "      <th>2</th>\n",
              "      <td>27147</td>\n",
              "      <td>[15O]-water PET and intraoperative brain mappi...</td>\n",
              "      <td>[15O]-water PET was performed on 12 patients w...</td>\n",
              "    </tr>\n",
              "    <tr>\n",
              "      <th>3</th>\n",
              "      <td>27148</td>\n",
              "      <td>Adaptive image segmentation for robust measure...</td>\n",
              "      <td>We present a method that significantly improve...</td>\n",
              "    </tr>\n",
              "    <tr>\n",
              "      <th>4</th>\n",
              "      <td>27149</td>\n",
              "      <td>Comparison of Epidemiological Variations in CO...</td>\n",
              "      <td>The objective of this study is to compare the ...</td>\n",
              "    </tr>\n",
              "  </tbody>\n",
              "</table>\n",
              "</div>"
            ],
            "text/plain": [
              "      id  ...                                           abstract\n",
              "0  27145  ...  The objective of the paper is to analyse chang...\n",
              "1  27146  ...                                                NaN\n",
              "2  27147  ...  [15O]-water PET was performed on 12 patients w...\n",
              "3  27148  ...  We present a method that significantly improve...\n",
              "4  27149  ...  The objective of this study is to compare the ...\n",
              "\n",
              "[5 rows x 3 columns]"
            ]
          },
          "metadata": {},
          "execution_count": 6
        }
      ]
    },
    {
      "cell_type": "code",
      "metadata": {
        "colab": {
          "base_uri": "https://localhost:8080/"
        },
        "id": "J9zqdsp-qZjr",
        "outputId": "287214ad-12c4-400c-dc0b-6ef6a6718247"
      },
      "source": [
        "train_df.info()\n",
        "train_df.describe(include=\"O\")"
      ],
      "execution_count": null,
      "outputs": [
        {
          "output_type": "stream",
          "name": "stdout",
          "text": [
            "<class 'pandas.core.frame.DataFrame'>\n",
            "RangeIndex: 27145 entries, 0 to 27144\n",
            "Data columns (total 4 columns):\n",
            " #   Column     Non-Null Count  Dtype \n",
            "---  ------     --------------  ----- \n",
            " 0   id         27145 non-null  int64 \n",
            " 1   title      27145 non-null  object\n",
            " 2   abstract   22755 non-null  object\n",
            " 3   judgement  27145 non-null  int64 \n",
            "dtypes: int64(2), object(2)\n",
            "memory usage: 848.4+ KB\n"
          ]
        },
        {
          "output_type": "execute_result",
          "data": {
            "text/html": [
              "<div>\n",
              "<style scoped>\n",
              "    .dataframe tbody tr th:only-of-type {\n",
              "        vertical-align: middle;\n",
              "    }\n",
              "\n",
              "    .dataframe tbody tr th {\n",
              "        vertical-align: top;\n",
              "    }\n",
              "\n",
              "    .dataframe thead th {\n",
              "        text-align: right;\n",
              "    }\n",
              "</style>\n",
              "<table border=\"1\" class=\"dataframe\">\n",
              "  <thead>\n",
              "    <tr style=\"text-align: right;\">\n",
              "      <th></th>\n",
              "      <th>title</th>\n",
              "      <th>abstract</th>\n",
              "    </tr>\n",
              "  </thead>\n",
              "  <tbody>\n",
              "    <tr>\n",
              "      <th>count</th>\n",
              "      <td>27145</td>\n",
              "      <td>22755</td>\n",
              "    </tr>\n",
              "    <tr>\n",
              "      <th>unique</th>\n",
              "      <td>27145</td>\n",
              "      <td>22755</td>\n",
              "    </tr>\n",
              "    <tr>\n",
              "      <th>top</th>\n",
              "      <td>Iodine -131 metaiodobenzylguanidine is an effe...</td>\n",
              "      <td>The source of a fever of unknown origin (FUO) ...</td>\n",
              "    </tr>\n",
              "    <tr>\n",
              "      <th>freq</th>\n",
              "      <td>1</td>\n",
              "      <td>1</td>\n",
              "    </tr>\n",
              "  </tbody>\n",
              "</table>\n",
              "</div>"
            ],
            "text/plain": [
              "                                                    title                                           abstract\n",
              "count                                               27145                                              22755\n",
              "unique                                              27145                                              22755\n",
              "top     Iodine -131 metaiodobenzylguanidine is an effe...  The source of a fever of unknown origin (FUO) ...\n",
              "freq                                                    1                                                  1"
            ]
          },
          "metadata": {},
          "execution_count": 7
        }
      ]
    },
    {
      "cell_type": "code",
      "metadata": {
        "colab": {
          "base_uri": "https://localhost:8080/"
        },
        "id": "ij0qnANlqdy8",
        "outputId": "4603a0de-00af-45ad-de00-78ccc86873bc"
      },
      "source": [
        "test_df.info()\n",
        "test_df.describe(include=\"O\")"
      ],
      "execution_count": null,
      "outputs": [
        {
          "output_type": "stream",
          "name": "stdout",
          "text": [
            "<class 'pandas.core.frame.DataFrame'>\n",
            "RangeIndex: 40834 entries, 0 to 40833\n",
            "Data columns (total 3 columns):\n",
            " #   Column    Non-Null Count  Dtype \n",
            "---  ------    --------------  ----- \n",
            " 0   id        40834 non-null  int64 \n",
            " 1   title     40834 non-null  object\n",
            " 2   abstract  34288 non-null  object\n",
            "dtypes: int64(1), object(2)\n",
            "memory usage: 957.2+ KB\n"
          ]
        },
        {
          "output_type": "execute_result",
          "data": {
            "text/html": [
              "<div>\n",
              "<style scoped>\n",
              "    .dataframe tbody tr th:only-of-type {\n",
              "        vertical-align: middle;\n",
              "    }\n",
              "\n",
              "    .dataframe tbody tr th {\n",
              "        vertical-align: top;\n",
              "    }\n",
              "\n",
              "    .dataframe thead th {\n",
              "        text-align: right;\n",
              "    }\n",
              "</style>\n",
              "<table border=\"1\" class=\"dataframe\">\n",
              "  <thead>\n",
              "    <tr style=\"text-align: right;\">\n",
              "      <th></th>\n",
              "      <th>title</th>\n",
              "      <th>abstract</th>\n",
              "    </tr>\n",
              "  </thead>\n",
              "  <tbody>\n",
              "    <tr>\n",
              "      <th>count</th>\n",
              "      <td>40834</td>\n",
              "      <td>34288</td>\n",
              "    </tr>\n",
              "    <tr>\n",
              "      <th>unique</th>\n",
              "      <td>40834</td>\n",
              "      <td>34288</td>\n",
              "    </tr>\n",
              "    <tr>\n",
              "      <th>top</th>\n",
              "      <td>Reduced hippocampal metabolism in MCI and AD: ...</td>\n",
              "      <td>The genotype (M/M  M/V  or V/V) at polymorphic...</td>\n",
              "    </tr>\n",
              "    <tr>\n",
              "      <th>freq</th>\n",
              "      <td>1</td>\n",
              "      <td>1</td>\n",
              "    </tr>\n",
              "  </tbody>\n",
              "</table>\n",
              "</div>"
            ],
            "text/plain": [
              "                                                    title                                           abstract\n",
              "count                                               40834                                              34288\n",
              "unique                                              40834                                              34288\n",
              "top     Reduced hippocampal metabolism in MCI and AD: ...  The genotype (M/M  M/V  or V/V) at polymorphic...\n",
              "freq                                                    1                                                  1"
            ]
          },
          "metadata": {},
          "execution_count": 8
        }
      ]
    },
    {
      "cell_type": "markdown",
      "metadata": {
        "id": "cqpU4tTAogZX"
      },
      "source": [
        "### 5.3.3 データ前処理\n",
        "欠損値は空文字で補完し、コンペティションのフォーラム上で公開された関数を用いて文字化けの処理を行います。\n"
      ]
    },
    {
      "cell_type": "code",
      "metadata": {
        "id": "PUzVL8VxooOW"
      },
      "source": [
        "def preprocess(sentence):\n",
        "    sentence = replace_double_quotation(sentence)\n",
        "    sentence = replace_garbled_text(sentence)\n",
        "    return sentence\n",
        "\n",
        "def replace_garbled_text(sentence):\n",
        "    garbled_char_table = {\n",
        "        'Â©': '©', '–': '-', '‐': '-', 'ﾂ｣': '£', 'ﾂｩ': '©', 'ﾂｫ': '«', \n",
        "        'ﾂｮ': '®', 'ﾂｰ': '°', 'ﾂｱ': '±', 'ﾂｲ': '²', 'ﾂｳ': '³', 'ﾂｴ': '´', \n",
        "        'ﾂｵ': 'µ', 'ﾂｷ': '·', 'ﾂｸ': '¸', 'ﾂｹ': '¹', 'ﾂｼ': '¼', 'ﾂｽ': '½', \n",
        "        'ﾂｾ': '¾', 'ﾂｿ': '¿', 'ﾂ': '', 'ﾃｷ': '÷', 'ﾃｸ': 'ø', 'ﾃ': 'a', \n",
        "        'ﾃ｡': 'a', 'ﾃ｢': 'a', 'ﾃ｣': 'a', 'ﾃ､': 'a', 'ﾃ･': 'a', 'ﾃｦ': 'ae', \n",
        "        'ﾃｧ': 'c', 'ﾃｨ': 'e', 'ﾃｩ': 'e', 'ﾃｪ': 'e', 'ﾃｫ': 'e', 'ﾃｬ': 'i', \n",
        "        'ﾃｭ': 'i', 'ﾃｮ': 'i', 'ﾃｯ': 'i', 'ﾃｱ': 'n', 'ﾃｲ': 'o', 'ﾃｳ': 'o', \n",
        "        'ﾃｴ': 'o', 'ﾃｵ': 'o', 'ﾃｶ': 'o', 'ﾃｹ': 'u', 'ﾃｺ': 'u', 'ﾃｻ': 'u', \n",
        "        'ﾃｼ': 'u', 'ﾃｽ': 'y', 'ﾃｿ': 'y', 'ﾃ': '×', 'ﾎｱ': 'α', 'ﾎｲ': 'β', \n",
        "        'ﾎｳ': 'γ', 'ﾎｴ': 'δ', 'ﾎｵ': 'ε', 'ﾎｶ': 'ζ', 'ﾎｷ': 'η', 'ﾎｸ': 'θ', \n",
        "        'ﾎｹ': 'ι', 'ﾎｺ': 'κ', 'ﾎｻ': 'λ', 'ﾎｼ': 'μ', 'ﾎｽ': 'ν', 'ﾎｾ': 'ξ', \n",
        "        'ﾎｿ': 'ο', 'ﾎ': '', 'ﾏ': ' ', '竕､': '≤', '竕･': '≥', '竕ｦ': '≦', \n",
        "        '竕ｧ': '≧', '窶｢': '•', '窶ｦ': '…', '窶ｲ': '′', '窶ｳ': '″', \n",
        "        '窶ｴ': '‴', '窶': ' ', '竅ｰ': '⁰', '竅ｴ': '⁴', '竅ｵ': '⁵', '竅ｶ': '⁶', \n",
        "        '竅ｷ': '⁷', '竅ｸ': '⁸', '竅ｹ': '⁹', '竅ｺ': '⁺', '竅ｻ': '⁻', '竅ｼ': '⁼', \n",
        "        '竏･': '∥', '竏ｪ': '∪', '竏ｫ': '∫', '竏ｶ': '∶', '竏ｼ': '∼', '竏': '', \n",
        "        'ﾂ\\uf8f0': ' '\n",
        "    }\n",
        "    for garbled_char, valid_char in garbled_char_table.items():\n",
        "        sentence = sentence.replace(garbled_char, valid_char)\n",
        "    sentence = re.sub('[ぁ-んァ-ンｦ-ﾟ一-龥]', '', sentence)\n",
        "    return sentence.translate(garbled_char_table)\n",
        "\n",
        "def replace_double_quotation(sentence):\n",
        "    return sentence.replace('\"', \"'\")\n",
        "\n",
        "all_df = pd.concat([train_df, test_df], axis=0)\n",
        "all_df['abstract'] = all_df['abstract'].fillna('')\n",
        "all_df[[\"title\", \"abstract\"]] = all_df[[\"title\", \"abstract\"]].applymap(preprocess)"
      ],
      "execution_count": null,
      "outputs": []
    },
    {
      "cell_type": "code",
      "metadata": {
        "id": "wIsOqaVKooKw"
      },
      "source": [
        "train_df = all_df[:train_df.shape[0]].copy()\n",
        "test_df = all_df[train_df.shape[0]:].copy()"
      ],
      "execution_count": null,
      "outputs": []
    },
    {
      "cell_type": "markdown",
      "metadata": {
        "id": "JQib74wUz5OX"
      },
      "source": [
        "## 5.4 データ分析"
      ]
    },
    {
      "cell_type": "markdown",
      "metadata": {
        "id": "25royOvphFAU"
      },
      "source": [
        "### 5.4.1 judgement\n",
        "正例が極端に少ない不均衡データになっています。"
      ]
    },
    {
      "cell_type": "code",
      "metadata": {
        "colab": {
          "base_uri": "https://localhost:8080/"
        },
        "id": "zwvZ9VAqeDE5",
        "outputId": "a266e095-e1d3-42b3-e271-611b2947efcf"
      },
      "source": [
        "train_df.judgement.value_counts()"
      ],
      "execution_count": null,
      "outputs": [
        {
          "output_type": "execute_result",
          "data": {
            "text/plain": [
              "0.0    26513\n",
              "1.0      632\n",
              "Name: judgement, dtype: int64"
            ]
          },
          "metadata": {},
          "execution_count": 11
        }
      ]
    },
    {
      "cell_type": "code",
      "metadata": {
        "colab": {
          "base_uri": "https://localhost:8080/"
        },
        "id": "tq0zjZ2o0_G7",
        "outputId": "48e63eb7-e106-4a55-85e8-9ec972efef3c"
      },
      "source": [
        "train_df.judgement.value_counts(normalize=True)"
      ],
      "execution_count": null,
      "outputs": [
        {
          "output_type": "execute_result",
          "data": {
            "text/plain": [
              "0.0    0.976718\n",
              "1.0    0.023282\n",
              "Name: judgement, dtype: float64"
            ]
          },
          "metadata": {},
          "execution_count": 12
        }
      ]
    },
    {
      "cell_type": "markdown",
      "metadata": {
        "id": "leLWIapIhKQ5"
      },
      "source": [
        "### 5.4.2 title\n",
        "titleの文字数、単語数の分布を表示します。正例と負例とで似た分布になっています。"
      ]
    },
    {
      "cell_type": "markdown",
      "metadata": {
        "id": "qXQtT1t5-CiZ"
      },
      "source": [
        "***\n",
        "**文字数**"
      ]
    },
    {
      "cell_type": "code",
      "metadata": {
        "colab": {
          "base_uri": "https://localhost:8080/"
        },
        "id": "oZR1Vzvn7xg3",
        "outputId": "4e5f0b9c-c1cb-43d1-d2a6-fd6b6141d14c"
      },
      "source": [
        "# trainデータ文字数分布\n",
        "title_len = train_df.title.str.len()\n",
        "sns.displot(title_len)\n",
        "\n",
        "\"trainのtitle文字数: min={}, max={}, mean={:.2f}\".format(\n",
        "    title_len.min(), title_len.max(), title_len.mean())"
      ],
      "execution_count": null,
      "outputs": [
        {
          "output_type": "execute_result",
          "data": {
            "application/vnd.google.colaboratory.intrinsic+json": {
              "type": "string"
            },
            "text/plain": [
              "'trainのtitle文字数: min=16, max=391, mean=102.83'"
            ]
          },
          "metadata": {},
          "execution_count": 13
        },
        {
          "output_type": "display_data",
          "data": {
            "image/png": "[encoded data removed]",
            "text/plain": [
              "<Figure size 360x360 with 1 Axes>"
            ]
          },
          "metadata": {
            "needs_background": "light"
          }
        }
      ]
    },
    {
      "cell_type": "code",
      "metadata": {
        "colab": {
          "base_uri": "https://localhost:8080/"
        },
        "id": "8MFnwsm_I3dK",
        "outputId": "ff33b1e7-301a-44e0-ff81-4a6a0c007f10"
      },
      "source": [
        "# 正例、負例の文字数分布\n",
        "sns.violinplot(x=train_df.judgement, y=title_len)"
      ],
      "execution_count": null,
      "outputs": [
        {
          "output_type": "execute_result",
          "data": {
            "text/plain": [
              "<matplotlib.axes._subplots.AxesSubplot at 0x7f3aacb22610>"
            ]
          },
          "metadata": {},
          "execution_count": 14
        },
        {
          "output_type": "display_data",
          "data": {
            "image/png": "[encoded data removed]",
            "text/plain": [
              "<Figure size 432x288 with 1 Axes>"
            ]
          },
          "metadata": {
            "needs_background": "light"
          }
        }
      ]
    },
    {
      "cell_type": "code",
      "metadata": {
        "colab": {
          "base_uri": "https://localhost:8080/"
        },
        "id": "wW-heL3IFGsT",
        "outputId": "7b560799-5f88-43cd-8fad-8f74dafbb1e1"
      },
      "source": [
        "# testデータ文字数分布\n",
        "test_title_len = test_df.title.str.len()\n",
        "sns.displot(test_title_len)\n",
        "\n",
        "\"testのtitle文字数: min={}, max={}, mean={:.2f}\".format(\n",
        "    test_title_len.min(), test_title_len.max(), test_title_len.mean())"
      ],
      "execution_count": null,
      "outputs": [
        {
          "output_type": "execute_result",
          "data": {
            "application/vnd.google.colaboratory.intrinsic+json": {
              "type": "string"
            },
            "text/plain": [
              "'testのtitle文字数: min=16, max=508, mean=102.55'"
            ]
          },
          "metadata": {},
          "execution_count": 15
        },
        {
          "output_type": "display_data",
          "data": {
            "image/png": "[encoded data removed]",
            "text/plain": [
              "<Figure size 360x360 with 1 Axes>"
            ]
          },
          "metadata": {
            "needs_background": "light"
          }
        }
      ]
    },
    {
      "cell_type": "markdown",
      "metadata": {
        "id": "h9L2wVLi-Ikh"
      },
      "source": [
        "***\n",
        "単語数"
      ]
    },
    {
      "cell_type": "code",
      "metadata": {
        "colab": {
          "base_uri": "https://localhost:8080/"
        },
        "id": "_rdHyA14nfkS",
        "outputId": "bd63f643-024d-4161-bc13-c3fb8bc51ed7"
      },
      "source": [
        "# trainデータ単語数分布\n",
        "title_num_words = train_df.title.str.split().map(lambda x: len(x))\n",
        "sns.displot(title_num_words)\n",
        "\n",
        "\"trainのtitle単語数: min={}, max={}, mean={:.2f}\".format(\n",
        "    title_num_words.min(), title_num_words.max(), title_num_words.mean()\n",
        "    )"
      ],
      "execution_count": null,
      "outputs": [
        {
          "output_type": "execute_result",
          "data": {
            "application/vnd.google.colaboratory.intrinsic+json": {
              "type": "string"
            },
            "text/plain": [
              "'trainのtitle単語数: min=2, max=53, mean=13.60'"
            ]
          },
          "metadata": {},
          "execution_count": 16
        },
        {
          "output_type": "display_data",
          "data": {
            "image/png": "[encoded data removed]",
            "text/plain": [
              "<Figure size 360x360 with 1 Axes>"
            ]
          },
          "metadata": {
            "needs_background": "light"
          }
        }
      ]
    },
    {
      "cell_type": "code",
      "metadata": {
        "colab": {
          "base_uri": "https://localhost:8080/"
        },
        "id": "bLCv5HVXpYg6",
        "outputId": "711b890c-78f6-44fd-b0ec-8172d36378c7"
      },
      "source": [
        "# 正例、負例の単語数分布\n",
        "sns.violinplot(x=train_df.judgement, y=title_num_words)"
      ],
      "execution_count": null,
      "outputs": [
        {
          "output_type": "execute_result",
          "data": {
            "text/plain": [
              "<matplotlib.axes._subplots.AxesSubplot at 0x7f3aa9f46490>"
            ]
          },
          "metadata": {},
          "execution_count": 17
        },
        {
          "output_type": "display_data",
          "data": {
            "image/png": "[encoded data removed]",
            "text/plain": [
              "<Figure size 432x288 with 1 Axes>"
            ]
          },
          "metadata": {
            "needs_background": "light"
          }
        }
      ]
    },
    {
      "cell_type": "code",
      "metadata": {
        "colab": {
          "base_uri": "https://localhost:8080/"
        },
        "id": "L9WlLja0MP13",
        "outputId": "b01b5bc4-b883-48ad-a7ca-a459af6b7356"
      },
      "source": [
        "# testデータ単語数分布\n",
        "test_title_num_words = test_df.title.str.split().map(lambda x: len(x))\n",
        "sns.displot(test_title_num_words)\n",
        "\n",
        "\"testのtitle単語数: min={}, max={}, mean={:.2f}\".format(\n",
        "    test_title_num_words.min(), \n",
        "    test_title_num_words.max(), \n",
        "    test_title_num_words.mean()\n",
        "    )"
      ],
      "execution_count": null,
      "outputs": [
        {
          "output_type": "execute_result",
          "data": {
            "application/vnd.google.colaboratory.intrinsic+json": {
              "type": "string"
            },
            "text/plain": [
              "'testのtitle単語数: min=2, max=69, mean=13.57'"
            ]
          },
          "metadata": {},
          "execution_count": 18
        },
        {
          "output_type": "display_data",
          "data": {
            "image/png": "[encoded data removed]",
            "text/plain": [
              "<Figure size 360x360 with 1 Axes>"
            ]
          },
          "metadata": {
            "needs_background": "light"
          }
        }
      ]
    },
    {
      "cell_type": "markdown",
      "metadata": {
        "id": "1oddl6hItKvl"
      },
      "source": [
        "***\n",
        "語彙出現頻度"
      ]
    },
    {
      "cell_type": "code",
      "metadata": {
        "id": "WpGsYKlmklbn",
        "colab": {
          "base_uri": "https://localhost:8080/"
        },
        "outputId": "d349ceac-b9c0-444c-9669-eb0755d7dc5c"
      },
      "source": [
        "# stopwordsのロード\n",
        "nltk.download('stopwords')\n",
        "stop_words = set(nltk.corpus.stopwords.words('english'))\n",
        "\n",
        "def create_corpus(df: pd.Series):\n",
        "    \"\"\"\n",
        "    stopwordsにない語彙のリストを返す\n",
        "    \"\"\"\n",
        "    corpus = []\n",
        "    for row in df.str.split():\n",
        "        for word in row:\n",
        "            if word.lower() not in stop_words:\n",
        "                corpus.append(word.lower())\n",
        "    return corpus"
      ],
      "execution_count": null,
      "outputs": [
        {
          "output_type": "stream",
          "name": "stdout",
          "text": [
            "[nltk_data] Downloading package stopwords to /root/nltk_data...\n",
            "[nltk_data]   Package stopwords is already up-to-date!\n"
          ]
        }
      ]
    },
    {
      "cell_type": "code",
      "metadata": {
        "id": "mlPql2PHlHFf",
        "colab": {
          "base_uri": "https://localhost:8080/"
        },
        "outputId": "294375a9-e188-43a6-8bc7-e7a6da1549f2"
      },
      "source": [
        "# trainデータ頻出語彙\n",
        "title_corpus = create_corpus(train_df.title)\n",
        "Counter(title_corpus).most_common(20)"
      ],
      "execution_count": null,
      "outputs": [
        {
          "output_type": "execute_result",
          "data": {
            "text/plain": [
              "[('covid-19', 7435),\n",
              " ('patients', 3273),\n",
              " ('disease', 3064),\n",
              " (\"alzheimer's\", 2682),\n",
              " ('sars-cov-2', 1874),\n",
              " ('disease.', 1670),\n",
              " ('study', 1521),\n",
              " ('coronavirus', 1428),\n",
              " ('pandemic', 1410),\n",
              " ('clinical', 1325),\n",
              " ('brain', 1248),\n",
              " ('imaging', 1220),\n",
              " ('case', 1112),\n",
              " ('cognitive', 1041),\n",
              " ('infection', 1036),\n",
              " ('amyloid', 1025),\n",
              " ('analysis', 871),\n",
              " ('using', 869),\n",
              " ('associated', 843),\n",
              " ('protein', 802)]"
            ]
          },
          "metadata": {},
          "execution_count": 20
        }
      ]
    },
    {
      "cell_type": "code",
      "metadata": {
        "colab": {
          "base_uri": "https://localhost:8080/"
        },
        "id": "KHshYmgtF5hM",
        "outputId": "f2d8a06d-1f5e-48d9-ad89-dbf123a0c367"
      },
      "source": [
        "# 負例の頻出語彙\n",
        "j0_title_corpus = create_corpus(train_df[train_df.judgement==0].title)\n",
        "Counter(j0_title_corpus).most_common(20)"
      ],
      "execution_count": null,
      "outputs": [
        {
          "output_type": "execute_result",
          "data": {
            "text/plain": [
              "[('covid-19', 7261),\n",
              " ('patients', 3173),\n",
              " ('disease', 2968),\n",
              " (\"alzheimer's\", 2646),\n",
              " ('sars-cov-2', 1700),\n",
              " ('disease.', 1659),\n",
              " ('study', 1478),\n",
              " ('pandemic', 1406),\n",
              " ('coronavirus', 1375),\n",
              " ('clinical', 1266),\n",
              " ('brain', 1237),\n",
              " ('imaging', 1201),\n",
              " ('case', 1104),\n",
              " ('cognitive', 1034),\n",
              " ('amyloid', 1022),\n",
              " ('infection', 1008),\n",
              " ('analysis', 850),\n",
              " ('associated', 838),\n",
              " ('using', 818),\n",
              " ('protein', 797)]"
            ]
          },
          "metadata": {},
          "execution_count": 21
        }
      ]
    },
    {
      "cell_type": "code",
      "metadata": {
        "id": "oSwftZTgwbOg",
        "colab": {
          "base_uri": "https://localhost:8080/"
        },
        "outputId": "560419c3-9fde-4d88-9b02-b3f703867a7d"
      },
      "source": [
        "# 正例の頻出語彙\n",
        "j1_title_corpus = create_corpus(train_df[train_df.judgement==1].title)\n",
        "Counter(j1_title_corpus).most_common(20)"
      ],
      "execution_count": null,
      "outputs": [
        {
          "output_type": "execute_result",
          "data": {
            "text/plain": [
              "[('sars-cov-2', 174),\n",
              " ('covid-19', 174),\n",
              " ('detection', 119),\n",
              " ('patients', 100),\n",
              " ('disease', 96),\n",
              " ('diagnosis', 91),\n",
              " ('dementia', 70),\n",
              " ('lewy', 67),\n",
              " ('clinical', 59),\n",
              " ('diagnostic', 59),\n",
              " ('evaluation', 57),\n",
              " ('rapid', 54),\n",
              " ('coronavirus', 53),\n",
              " ('using', 51),\n",
              " ('chest', 46),\n",
              " ('study', 43),\n",
              " ('test', 40),\n",
              " ('comparison', 40),\n",
              " ('performance', 38),\n",
              " ('testing', 37)]"
            ]
          },
          "metadata": {},
          "execution_count": 22
        }
      ]
    },
    {
      "cell_type": "code",
      "metadata": {
        "id": "xDtL6SSozTlR",
        "colab": {
          "base_uri": "https://localhost:8080/"
        },
        "outputId": "a1be0801-171e-4bd1-ab36-dcdf7fcbabb1"
      },
      "source": [
        "# testデータ頻出語彙\n",
        "test_title_corpus = create_corpus(test_df.title)\n",
        "Counter(test_title_corpus).most_common(20)"
      ],
      "execution_count": null,
      "outputs": [
        {
          "output_type": "execute_result",
          "data": {
            "text/plain": [
              "[('covid-19', 11167),\n",
              " ('patients', 5000),\n",
              " ('disease', 4804),\n",
              " (\"alzheimer's\", 3980),\n",
              " ('sars-cov-2', 2769),\n",
              " ('disease.', 2518),\n",
              " ('study', 2368),\n",
              " ('coronavirus', 2327),\n",
              " ('pandemic', 2309),\n",
              " ('clinical', 2020),\n",
              " ('imaging', 1903),\n",
              " ('brain', 1813),\n",
              " ('case', 1763),\n",
              " ('amyloid', 1533),\n",
              " ('infection', 1531),\n",
              " ('cognitive', 1525),\n",
              " ('analysis', 1309),\n",
              " ('using', 1247),\n",
              " ('protein', 1241),\n",
              " ('2019', 1239)]"
            ]
          },
          "metadata": {},
          "execution_count": 23
        }
      ]
    },
    {
      "cell_type": "markdown",
      "metadata": {
        "id": "NQaBM82YlHr2"
      },
      "source": [
        "### 5.4.3 abstract\n",
        "abstractの文字数、単語数の分布を表示します。正例は全体の分布に似ているのに対し、負例は尖度が少し異なる分布が表れます。"
      ]
    },
    {
      "cell_type": "markdown",
      "metadata": {
        "id": "JKfErV78QCrE"
      },
      "source": [
        "***\n",
        "**文字数**"
      ]
    },
    {
      "cell_type": "code",
      "metadata": {
        "id": "X695dlKBg01_",
        "colab": {
          "base_uri": "https://localhost:8080/",
          "height": 387
        },
        "outputId": "ecc2a11d-72e9-4f29-a0f5-e62d4a0f03d5"
      },
      "source": [
        "# trainデータ文字数分布\n",
        "abstract_len = train_df.abstract.str.len()\n",
        "sns.displot(abstract_len)\n",
        "\"train abstract文字数: min={}, max={}, mean={:.2f}\".format(\n",
        "    abstract_len.min(),\n",
        "    abstract_len.max(),\n",
        "    abstract_len.mean()\n",
        ")"
      ],
      "execution_count": null,
      "outputs": [
        {
          "output_type": "execute_result",
          "data": {
            "application/vnd.google.colaboratory.intrinsic+json": {
              "type": "string"
            },
            "text/plain": [
              "'train abstract文字数: min=0, max=9672, mean=1250.24'"
            ]
          },
          "metadata": {},
          "execution_count": 24
        },
        {
          "output_type": "display_data",
          "data": {
            "image/png": "[encoded data removed]",
            "text/plain": [
              "<Figure size 360x360 with 1 Axes>"
            ]
          },
          "metadata": {
            "needs_background": "light"
          }
        }
      ]
    },
    {
      "cell_type": "code",
      "metadata": {
        "colab": {
          "base_uri": "https://localhost:8080/",
          "height": 738
        },
        "id": "RSsso4CSbUm8",
        "outputId": "c364150b-0064-4660-fc4b-27957918870c"
      },
      "source": [
        "# 正例、負例の文字数分布\n",
        "sns.displot(abstract_len[train_df.judgement==0]).set(xlim=(0,4000))\n",
        "sns.displot(abstract_len[train_df.judgement==1]).set(xlim=(0,4000))"
      ],
      "execution_count": null,
      "outputs": [
        {
          "output_type": "execute_result",
          "data": {
            "text/plain": [
              "<seaborn.axisgrid.FacetGrid at 0x7f3aaa1ee850>"
            ]
          },
          "metadata": {},
          "execution_count": 25
        },
        {
          "output_type": "display_data",
          "data": {
            "image/png": "[encoded data removed]",
            "text/plain": [
              "<Figure size 360x360 with 1 Axes>"
            ]
          },
          "metadata": {
            "needs_background": "light"
          }
        },
        {
          "output_type": "display_data",
          "data": {
            "image/png": "[encoded data removed]",
            "text/plain": [
              "<Figure size 360x360 with 1 Axes>"
            ]
          },
          "metadata": {
            "needs_background": "light"
          }
        }
      ]
    },
    {
      "cell_type": "code",
      "metadata": {
        "colab": {
          "base_uri": "https://localhost:8080/",
          "height": 296
        },
        "id": "j9_OyONiAj8a",
        "outputId": "454c0235-a3e5-4953-88bb-2854035d4047"
      },
      "source": [
        "sns.violinplot(x=train_df.judgement, y=abstract_len)"
      ],
      "execution_count": null,
      "outputs": [
        {
          "output_type": "execute_result",
          "data": {
            "text/plain": [
              "<matplotlib.axes._subplots.AxesSubplot at 0x7f3aaa410690>"
            ]
          },
          "metadata": {},
          "execution_count": 26
        },
        {
          "output_type": "display_data",
          "data": {
            "image/png": "[encoded data removed]",
            "text/plain": [
              "<Figure size 432x288 with 1 Axes>"
            ]
          },
          "metadata": {
            "needs_background": "light"
          }
        }
      ]
    },
    {
      "cell_type": "code",
      "metadata": {
        "colab": {
          "base_uri": "https://localhost:8080/",
          "height": 387
        },
        "id": "w2z03Xa9BcvX",
        "outputId": "a16d2ff1-7636-4ac8-bf3c-58c1f5df1375"
      },
      "source": [
        "# testデータ文字数分布\n",
        "test_abstract_len = test_df.abstract.str.len()\n",
        "sns.displot(test_abstract_len)\n",
        "\"test abstract文字数: min={}, max={}, mean={:.2f}\".format(\n",
        "    test_abstract_len.min(),\n",
        "    test_abstract_len.max(),\n",
        "    test_abstract_len.mean()\n",
        ")"
      ],
      "execution_count": null,
      "outputs": [
        {
          "output_type": "execute_result",
          "data": {
            "application/vnd.google.colaboratory.intrinsic+json": {
              "type": "string"
            },
            "text/plain": [
              "'test abstract文字数: min=0, max=12826, mean=1253.15'"
            ]
          },
          "metadata": {},
          "execution_count": 27
        },
        {
          "output_type": "display_data",
          "data": {
            "image/png": "[encoded data removed]",
            "text/plain": [
              "<Figure size 360x360 with 1 Axes>"
            ]
          },
          "metadata": {
            "needs_background": "light"
          }
        }
      ]
    },
    {
      "cell_type": "markdown",
      "metadata": {
        "id": "poQ3BWOEQIeL"
      },
      "source": [
        "***\n",
        "**単語数**"
      ]
    },
    {
      "cell_type": "code",
      "metadata": {
        "id": "-F9wQHi1QPmE",
        "colab": {
          "base_uri": "https://localhost:8080/",
          "height": 387
        },
        "outputId": "638cfd61-06ac-4006-cd48-a82bc95c5e20"
      },
      "source": [
        "# trainデータの単語数分布\n",
        "abstract_num_words = train_df.abstract.str.split().map(lambda x: len(x))\n",
        "sns.displot(abstract_num_words)\n",
        "\n",
        "\"trainのabstract単語数: min={}, max={}, mean={:.2f}\".format(\n",
        "    abstract_num_words.min(),\n",
        "    abstract_num_words.max(), \n",
        "    abstract_num_words.mean()\n",
        "    )"
      ],
      "execution_count": null,
      "outputs": [
        {
          "output_type": "execute_result",
          "data": {
            "application/vnd.google.colaboratory.intrinsic+json": {
              "type": "string"
            },
            "text/plain": [
              "'trainのabstract単語数: min=0, max=1535, mean=180.84'"
            ]
          },
          "metadata": {},
          "execution_count": 28
        },
        {
          "output_type": "display_data",
          "data": {
            "image/png": "[encoded data removed]",
            "text/plain": [
              "<Figure size 360x360 with 1 Axes>"
            ]
          },
          "metadata": {
            "needs_background": "light"
          }
        }
      ]
    },
    {
      "cell_type": "code",
      "metadata": {
        "colab": {
          "base_uri": "https://localhost:8080/"
        },
        "id": "-L8hW2s5cwr8",
        "outputId": "1c973475-6ee6-4f63-e3d1-d6adab71dc79"
      },
      "source": [
        "# 正例、負例の単語数分布\n",
        "sns.displot(abstract_num_words[train_df.judgement==0]).set(xlim=(0,600))\n",
        "sns.displot(abstract_num_words[train_df.judgement==1]).set(xlim=(0,600))"
      ],
      "execution_count": null,
      "outputs": [
        {
          "output_type": "execute_result",
          "data": {
            "text/plain": [
              "<seaborn.axisgrid.FacetGrid at 0x7f3a9d8e1d50>"
            ]
          },
          "metadata": {},
          "execution_count": 29
        },
        {
          "output_type": "display_data",
          "data": {
            "image/png": "[encoded data removed]",
            "text/plain": [
              "<Figure size 360x360 with 1 Axes>"
            ]
          },
          "metadata": {
            "needs_background": "light"
          }
        },
        {
          "output_type": "display_data",
          "data": {
            "image/png": "[encoded data removed]",
            "text/plain": [
              "<Figure size 360x360 with 1 Axes>"
            ]
          },
          "metadata": {
            "needs_background": "light"
          }
        }
      ]
    },
    {
      "cell_type": "code",
      "metadata": {
        "colab": {
          "base_uri": "https://localhost:8080/"
        },
        "id": "_VCvhsmDkEim",
        "outputId": "52d21be6-a914-4c1a-ae09-58ad4287a6c3"
      },
      "source": [
        "sns.violinplot(x=train_df.judgement, y=abstract_num_words)"
      ],
      "execution_count": null,
      "outputs": [
        {
          "output_type": "execute_result",
          "data": {
            "text/plain": [
              "<matplotlib.axes._subplots.AxesSubplot at 0x7f3aa012bf50>"
            ]
          },
          "metadata": {},
          "execution_count": 30
        },
        {
          "output_type": "display_data",
          "data": {
            "image/png": "[encoded data removed]",
            "text/plain": [
              "<Figure size 432x288 with 1 Axes>"
            ]
          },
          "metadata": {
            "needs_background": "light"
          }
        }
      ]
    },
    {
      "cell_type": "code",
      "metadata": {
        "id": "QP2pc3sMQDEq",
        "colab": {
          "base_uri": "https://localhost:8080/",
          "height": 387
        },
        "outputId": "efdcf62c-93d1-4df0-b808-db9d868b0e74"
      },
      "source": [
        "# testデータの単語数分布\n",
        "test_abstract_num_words = test_df.abstract.str.split().map(lambda x: len(x))\n",
        "sns.displot(test_abstract_num_words)\n",
        "\n",
        "\"testのabstract単語数: min={}, max={}, mean={:.2f}\".format(\n",
        "    test_abstract_num_words.min(),\n",
        "    test_abstract_num_words.max(), \n",
        "    test_abstract_num_words.mean()\n",
        "    )"
      ],
      "execution_count": null,
      "outputs": [
        {
          "output_type": "execute_result",
          "data": {
            "application/vnd.google.colaboratory.intrinsic+json": {
              "type": "string"
            },
            "text/plain": [
              "'testのabstract単語数: min=0, max=1445, mean=181.27'"
            ]
          },
          "metadata": {},
          "execution_count": 31
        },
        {
          "output_type": "display_data",
          "data": {
            "image/png": "[encoded data removed]",
            "text/plain": [
              "<Figure size 360x360 with 1 Axes>"
            ]
          },
          "metadata": {
            "needs_background": "light"
          }
        }
      ]
    },
    {
      "cell_type": "markdown",
      "metadata": {
        "id": "cWoziAR2Hw3w"
      },
      "source": [
        "***\n",
        "**頻出語彙**\n"
      ]
    },
    {
      "cell_type": "code",
      "metadata": {
        "colab": {
          "base_uri": "https://localhost:8080/"
        },
        "id": "18sqy-S4H4gg",
        "outputId": "0c009059-3060-4be3-e5b5-ae74b05e1bbf"
      },
      "source": [
        "# trainデータ頻出語彙\n",
        "abstract_corpus = create_corpus(train_df[train_df.judgement==0].abstract)\n",
        "Counter(abstract_corpus).most_common(20)"
      ],
      "execution_count": null,
      "outputs": [
        {
          "output_type": "execute_result",
          "data": {
            "text/plain": [
              "[('patients', 36631),\n",
              " ('covid-19', 19645),\n",
              " ('disease', 18903),\n",
              " ('study', 11603),\n",
              " ('clinical', 10508),\n",
              " ('=', 9719),\n",
              " ('ad', 9523),\n",
              " ('may', 9412),\n",
              " ('brain', 9161),\n",
              " ('using', 8340),\n",
              " ('associated', 7879),\n",
              " ('data', 6970),\n",
              " (\"alzheimer's\", 6875),\n",
              " ('cases', 6833),\n",
              " ('compared', 6798),\n",
              " ('results', 6730),\n",
              " ('imaging', 6663),\n",
              " ('also', 6588),\n",
              " ('showed', 6537),\n",
              " ('risk', 6262)]"
            ]
          },
          "metadata": {},
          "execution_count": 32
        }
      ]
    },
    {
      "cell_type": "code",
      "metadata": {
        "colab": {
          "base_uri": "https://localhost:8080/"
        },
        "id": "gWNaemo2H4T-",
        "outputId": "fb925b2a-a929-4974-deb0-886c71e25870"
      },
      "source": [
        "# 負例頻出語彙\n",
        "j0_abstract_corpus = create_corpus(train_df[train_df.judgement==0].abstract)\n",
        "Counter(j0_title_corpus).most_common(20)"
      ],
      "execution_count": null,
      "outputs": [
        {
          "output_type": "execute_result",
          "data": {
            "text/plain": [
              "[('covid-19', 7261),\n",
              " ('patients', 3173),\n",
              " ('disease', 2968),\n",
              " (\"alzheimer's\", 2646),\n",
              " ('sars-cov-2', 1700),\n",
              " ('disease.', 1659),\n",
              " ('study', 1478),\n",
              " ('pandemic', 1406),\n",
              " ('coronavirus', 1375),\n",
              " ('clinical', 1266),\n",
              " ('brain', 1237),\n",
              " ('imaging', 1201),\n",
              " ('case', 1104),\n",
              " ('cognitive', 1034),\n",
              " ('amyloid', 1022),\n",
              " ('infection', 1008),\n",
              " ('analysis', 850),\n",
              " ('associated', 838),\n",
              " ('using', 818),\n",
              " ('protein', 797)]"
            ]
          },
          "metadata": {},
          "execution_count": 33
        }
      ]
    },
    {
      "cell_type": "code",
      "metadata": {
        "colab": {
          "base_uri": "https://localhost:8080/"
        },
        "id": "dW52dAoPIBby",
        "outputId": "ffb9a6fc-ded7-4d61-9bae-e1a547c2eb4d"
      },
      "source": [
        "# 正例頻出語彙\n",
        "j1_abstract_corpus = create_corpus(train_df[train_df.judgement==1].abstract)\n",
        "Counter(j1_title_corpus).most_common(20)"
      ],
      "execution_count": null,
      "outputs": [
        {
          "output_type": "execute_result",
          "data": {
            "text/plain": [
              "[('sars-cov-2', 174),\n",
              " ('covid-19', 174),\n",
              " ('detection', 119),\n",
              " ('patients', 100),\n",
              " ('disease', 96),\n",
              " ('diagnosis', 91),\n",
              " ('dementia', 70),\n",
              " ('lewy', 67),\n",
              " ('clinical', 59),\n",
              " ('diagnostic', 59),\n",
              " ('evaluation', 57),\n",
              " ('rapid', 54),\n",
              " ('coronavirus', 53),\n",
              " ('using', 51),\n",
              " ('chest', 46),\n",
              " ('study', 43),\n",
              " ('test', 40),\n",
              " ('comparison', 40),\n",
              " ('performance', 38),\n",
              " ('testing', 37)]"
            ]
          },
          "metadata": {},
          "execution_count": 34
        }
      ]
    },
    {
      "cell_type": "code",
      "metadata": {
        "colab": {
          "base_uri": "https://localhost:8080/"
        },
        "id": "oVpwAroWIaGq",
        "outputId": "4e8d781a-cb28-4ae6-c4e1-7391e7e31fc3"
      },
      "source": [
        "# testデータ頻出語彙\n",
        "test_abstract_corpus = create_corpus(test_df.abstract)\n",
        "Counter(test_abstract_corpus).most_common(20)"
      ],
      "execution_count": null,
      "outputs": [
        {
          "output_type": "execute_result",
          "data": {
            "text/plain": [
              "[('patients', 58310),\n",
              " ('covid-19', 31591),\n",
              " ('disease', 28884),\n",
              " ('study', 17802),\n",
              " ('clinical', 16712),\n",
              " ('ad', 14976),\n",
              " ('=', 14836),\n",
              " ('may', 14588),\n",
              " ('brain', 13266),\n",
              " ('using', 12908),\n",
              " ('associated', 12282),\n",
              " ('data', 10677),\n",
              " ('cases', 10530),\n",
              " (\"alzheimer's\", 10513),\n",
              " ('results', 10481),\n",
              " ('imaging', 10430),\n",
              " ('compared', 10230),\n",
              " ('also', 10213),\n",
              " ('results:', 9843),\n",
              " ('showed', 9825)]"
            ]
          },
          "metadata": {},
          "execution_count": 35
        }
      ]
    },
    {
      "cell_type": "markdown",
      "metadata": {
        "id": "R5Ux6wa0C-Ly"
      },
      "source": [
        "### 5.4.4 text = title + abstract\n",
        "titleとabstractの文字列を連結してtextという特徴量を作ります。<br>\n",
        "このtextを各種BERTの入力として用いる予定です。<br>\n",
        "大体のtoken数を見積もるため、単語数の分布を調べます。"
      ]
    },
    {
      "cell_type": "code",
      "metadata": {
        "id": "5xs0Q9RIqqc5"
      },
      "source": [
        "train_df.loc[:,\"text\"] = train_df.title + \" \" + train_df.abstract\n",
        "test_df[\"text\"] = test_df.title + \" \" + test_df.abstract"
      ],
      "execution_count": null,
      "outputs": []
    },
    {
      "cell_type": "code",
      "metadata": {
        "colab": {
          "base_uri": "https://localhost:8080/",
          "height": 387
        },
        "id": "Y0NJdNvVrGlL",
        "outputId": "658ff8df-c90c-4324-dc21-aded2fd00c80"
      },
      "source": [
        "# trainデータ\n",
        "text_num_words = train_df.text.str.split().map(lambda x: len(x))\n",
        "sns.displot(text_num_words)\n",
        "\"text単語数: min={}, max={}, mean={:.2f}, 512語以上のサンプル数={}\".format(\n",
        "    text_num_words.min(),\n",
        "    text_num_words.max(),\n",
        "    text_num_words.mean(),\n",
        "    sum(text_num_words>512)\n",
        ")"
      ],
      "execution_count": null,
      "outputs": [
        {
          "output_type": "execute_result",
          "data": {
            "application/vnd.google.colaboratory.intrinsic+json": {
              "type": "string"
            },
            "text/plain": [
              "'text単語数: min=2, max=1537, mean=194.44, 512語以上のサンプル数=174'"
            ]
          },
          "metadata": {},
          "execution_count": 37
        },
        {
          "output_type": "display_data",
          "data": {
            "image/png": "[encoded data removed]",
            "text/plain": [
              "<Figure size 360x360 with 1 Axes>"
            ]
          },
          "metadata": {
            "needs_background": "light"
          }
        }
      ]
    },
    {
      "cell_type": "code",
      "metadata": {
        "colab": {
          "base_uri": "https://localhost:8080/",
          "height": 387
        },
        "id": "QIqSQuwGs2Hf",
        "outputId": "0e8fdf90-42d6-44fb-a1a4-683c99ec7da6"
      },
      "source": [
        "# testデータ\n",
        "test_text_num_words = test_df.text.str.split().map(lambda x: len(x))\n",
        "sns.displot(test_text_num_words)\n",
        "\"text単語数: min={}, max={}, mean={:.2f}, 512語以上のサンプル数={}\".format(\n",
        "    test_text_num_words.min(),\n",
        "    test_text_num_words.max(),\n",
        "    test_text_num_words.mean(),\n",
        "    sum(test_text_num_words>512)\n",
        ")"
      ],
      "execution_count": null,
      "outputs": [
        {
          "output_type": "execute_result",
          "data": {
            "application/vnd.google.colaboratory.intrinsic+json": {
              "type": "string"
            },
            "text/plain": [
              "'text単語数: min=2, max=1457, mean=194.85, 512語以上のサンプル数=315'"
            ]
          },
          "metadata": {},
          "execution_count": 38
        },
        {
          "output_type": "display_data",
          "data": {
            "image/png": "[encoded data removed]",
            "text/plain": [
              "<Figure size 360x360 with 1 Axes>"
            ]
          },
          "metadata": {
            "needs_background": "light"
          }
        }
      ]
    },
    {
      "cell_type": "markdown",
      "metadata": {
        "id": "QtjKhReRhd36"
      },
      "source": [
        "## 5.5 データ保存\n",
        "前処理したデータを保存します。"
      ]
    },
    {
      "cell_type": "code",
      "metadata": {
        "id": "emgR8nFmkQOM"
      },
      "source": [
        "train_df.iloc[:, :-1].to_csv(os.path.join(INPUT, \"p_train.csv\"), index=False)\n",
        "test_df.iloc[:, :-1].to_csv(os.path.join(INPUT, \"p_test.csv\"), index=False)"
      ],
      "execution_count": null,
      "outputs": []
    }
  ]
}