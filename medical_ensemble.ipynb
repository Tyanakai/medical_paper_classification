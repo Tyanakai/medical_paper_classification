{
  "nbformat": 4,
  "nbformat_minor": 0,
  "metadata": {
    "colab": {
      "name": "medical_ensemble.ipynb",
      "provenance": [],
      "collapsed_sections": [
        "tVXGPY4uIJxz",
        "hGioSxvWV9At",
        "A0jV8xEpIxEN",
        "gk7U3HvBWCBe",
        "Ryo30LFYWGDP",
        "ZmO5K9uZWiqV",
        "qjOoQA7THDe-",
        "ud-emR_QiOEw",
        "i_S-qM47iMTt",
        "y5_uLzN5UQqs",
        "KQr12_SdjKzF",
        "-gb5Bm8SObUZ"
      ],
      "toc_visible": true,
      "mount_file_id": "1sFPcpi_0JIf2TvGCA8fHc_FXm30nCFvX",
      "authorship_tag": "ABX9TyORr9UUu6Tqu6bbi3ahUYMk",
      "include_colab_link": true
    },
    "kernelspec": {
      "name": "python3",
      "display_name": "Python 3"
    },
    "language_info": {
      "name": "python"
    }
  },
  "cells": [
    {
      "cell_type": "markdown",
      "metadata": {
        "id": "view-in-github",
        "colab_type": "text"
      },
      "source": [
        "<a href=\"https://colab.research.google.com/github/Tyanakai/medical_paper_classification/blob/main/medical_ensemble.ipynb\" target=\"_parent\"><img src=\"https://colab.research.google.com/assets/colab-badge.svg\" alt=\"Open In Colab\"/></a>"
      ]
    },
    {
      "cell_type": "markdown",
      "metadata": {
        "id": "hrPciWwbQeQ4"
      },
      "source": [
        "<h1>医学論文の自動仕分けチャレンジ　アンサンブル</h1>\n"
      ]
    },
    {
      "cell_type": "markdown",
      "metadata": {
        "id": "qsVgj2LgQ1Cs"
      },
      "source": [
        "# １. はじめに\n",
        "本ノートブックは、[medical_bert_tf.ipynb](https://github.com/Tyanakai/medical_paper_classification/blob/main/medical_bert_tf.ipynb)で得た数種類の予測値(probability)を元に、アンサンブル手法を評価し、提出ファイルを作成するものです。<br>\n",
        "試行するアンサンブル手法は以下の通りです。\n",
        "\n",
        "\n",
        "*   random forest\n",
        "*   decision tree\n",
        "*   svm\n",
        "*   logistic regression\n",
        "\n",
        "尚、colabratory上での実行を想定しています。\n"
      ]
    },
    {
      "cell_type": "markdown",
      "metadata": {
        "id": "0HpnPp2YJGWs"
      },
      "source": [
        "# ２. 事前に完了していること\n",
        "- [medical_eda.ipynb](https://github.com/Tyanakai/medical_paper_classification/blob/main/medical_EDA.ipynb)を実行\n",
        "- [medical_bert_tf.ipynb](https://github.com/Tyanakai/medical_paper_classification/blob/main/medical_bert_tf.ipynb)を実行し、数種類のモデルでout of foldデータとtestデータに対する予測値(probability)を予測、保存"
      ]
    },
    {
      "cell_type": "markdown",
      "metadata": {
        "id": "tVXGPY4uIJxz"
      },
      "source": [
        "# ３. 環境準備\n",
        "実行環境を構築します。"
      ]
    },
    {
      "cell_type": "markdown",
      "metadata": {
        "id": "hGioSxvWV9At"
      },
      "source": [
        "## 3.1 ライブラリ"
      ]
    },
    {
      "cell_type": "code",
      "metadata": {
        "id": "bbDxRXEJemPp"
      },
      "source": [
        "import datetime\n",
        "import os\n",
        "\n",
        "import matplotlib.pyplot as plt\n",
        "import numpy as np\n",
        "import pandas as pd\n",
        "import seaborn as sns\n",
        "from scipy.optimize import minimize\n",
        "from sklearn.metrics import fbeta_score\n",
        "from sklearn.metrics import make_scorer\n",
        "from sklearn.model_selection import StratifiedKFold\n",
        "from sklearn.pipeline import make_pipeline\n",
        "from sklearn.preprocessing import StandardScaler\n",
        "from sklearn.ensemble import RandomForestClassifier\n",
        "from sklearn.linear_model import LogisticRegression\n",
        "from sklearn.svm import SVC\n",
        "from sklearn.tree import DecisionTreeClassifier\n",
        "from tqdm import tqdm"
      ],
      "execution_count": null,
      "outputs": []
    },
    {
      "cell_type": "markdown",
      "metadata": {
        "id": "A0jV8xEpIxEN"
      },
      "source": [
        "## 3.2 Google Driveマウント"
      ]
    },
    {
      "cell_type": "code",
      "metadata": {
        "id": "AM3vKLRdIvX6"
      },
      "source": [
        "from google.colab import drive\n",
        "drive.mount('/content/drive')"
      ],
      "execution_count": null,
      "outputs": []
    },
    {
      "cell_type": "markdown",
      "metadata": {
        "id": "gk7U3HvBWCBe"
      },
      "source": [
        "## 3.3 config"
      ]
    },
    {
      "cell_type": "code",
      "metadata": {
        "id": "zBF4A-fzePlq"
      },
      "source": [
        "class Config:\n",
        "    train_file = \"p_train.csv\"\n",
        "    test_file = \"p_test.csv\"\n",
        "    target_col = \"judgement\""
      ],
      "execution_count": null,
      "outputs": []
    },
    {
      "cell_type": "markdown",
      "metadata": {
        "id": "Ryo30LFYWGDP"
      },
      "source": [
        "## 3.4 pathの設定"
      ]
    },
    {
      "cell_type": "code",
      "metadata": {
        "id": "pfZG95QEfY_e"
      },
      "source": [
        "DRIVE = \"/content/drive/MyDrive/signate/medical_paper\"\n",
        "INPUT = os.path.join(DRIVE, \"input\")\n",
        "OUTPUT = os.path.join(DRIVE, \"output\")\n",
        "SUBMIT = os.path.join(DRIVE, \"submit\")\n",
        "PROB = os.path.join(DRIVE, \"prob\")"
      ],
      "execution_count": null,
      "outputs": []
    },
    {
      "cell_type": "markdown",
      "metadata": {
        "id": "ZmO5K9uZWiqV"
      },
      "source": [
        "# ４. データ準備\n",
        "[medical_bert_tf.ipynb](https://github.com/Tyanakai/medical_paper_classification/blob/main/medical_bert_tf.ipynb)で得た\n",
        "oofとtestデータに対する予測値(probability)をそれぞれtrainデータ、testデータに結合します。\n",
        "またアンサンブルで使用する線形モデル用に、標準化しておきます。"
      ]
    },
    {
      "cell_type": "code",
      "metadata": {
        "id": "BVXreJC1fnuR"
      },
      "source": [
        "# 使用するファイル名\n",
        "oof_file_names = [\n",
        "                  \"oof_microsoft-BiomedNLP-PubMedBERT-base-uncased-abstract-fulltext_20211004_1012.csv\",\n",
        "                  \"oof_microsoft-BiomedNLP-PubMedBERT-base-uncased-abstract-fulltext_20210918_0958.csv\",\n",
        "                  \"oof_microsoft-BiomedNLP-PubMedBERT-base-uncased-abstract-fulltext_20211001_1452.csv\",\n",
        "                  \"oof_cambridgeltl-SapBERT-from-PubMedBERT-fulltext_20211002_1505.csv\",\n",
        "                  \"oof_cambridgeltl-SapBERT-from-PubMedBERT-fulltext_20210920_1742.csv\",\n",
        "                  \"oof_cambridgeltl-SapBERT-from-PubMedBERT-fulltext_20210924_1715.csv\",\n",
        "                  \"oof_kamalkraj-bioelectra-base-discriminator-pubmed-pmc_20211004_1357.csv\",\n",
        "                  \"oof_dmis-lab-biobert-base-cased-v1.2_20211004_2013.csv\"\n",
        "                  ]\n",
        "pred_file_names = [\n",
        "                   \"prob_microsoft-BiomedNLP-PubMedBERT-base-uncased-abstract-fulltext_20211004_1012.csv\",\n",
        "                   \"prob_microsoft-BiomedNLP-PubMedBERT-base-uncased-abstract-fulltext_20210918_0958.csv\",\n",
        "                   \"prob_microsoft-BiomedNLP-PubMedBERT-base-uncased-abstract-fulltext_20211001_1452.csv\",\n",
        "                   \"prob_cambridgeltl-SapBERT-from-PubMedBERT-fulltext_20211002_1505.csv\",\n",
        "                   \"prob_cambridgeltl-SapBERT-from-PubMedBERT-fulltext_20210920_1742.csv\",\n",
        "                   \"prob_cambridgeltl-SapBERT-from-PubMedBERT-fulltext_20210924_1715.csv\",\n",
        "                   \"prob_kamalkraj-bioelectra-base-discriminator-pubmed-pmc_20211004_1357.csv\",\n",
        "                   \"prob_dmis-lab-biobert-base-cased-v1.2_20211004_2013.csv\"\n",
        "                   ]"
      ],
      "execution_count": null,
      "outputs": []
    },
    {
      "cell_type": "code",
      "metadata": {
        "id": "tTHo2DJIHZ9q"
      },
      "source": [
        "def get_data(file_name):\n",
        "    \"\"\"\n",
        "    データを取得する。\n",
        "    通常の前処理に加え、abstractの文字数を計算した特徴量を作る。\n",
        "    \"\"\"\n",
        "    df = pd.read_csv(os.path.join(INPUT, file_name))\n",
        "    if Config.debug:\n",
        "        df = df.sample(256, random_state=Config.seeds[0]).reset_index(drop=True)\n",
        "\n",
        "    # preprocess\n",
        "    df[\"abstract\"] = df[\"abstract\"].fillna(\"\")\n",
        "    df[\"abstract_len\"] = df[\"abstract\"].str.len()\n",
        "    return df"
      ],
      "execution_count": null,
      "outputs": []
    },
    {
      "cell_type": "code",
      "metadata": {
        "id": "Y7SU6vCKg5QX"
      },
      "source": [
        "# データ取得\n",
        "train_df = get_data(Config.train_file)\n",
        "test_df = get_data(Config.test_file)\n",
        "\n",
        "# 結合\n",
        "for oof_f in oof_file_names:\n",
        "    oof_df = pd.read_csv(os.path.join(PROB, oof_f))\n",
        "    train_df = pd.concat([train_df, oof_df], axis=1)\n",
        "\n",
        "for pred_f in pred_file_names:\n",
        "    pred_df =pd.read_csv(os.path.join(PROB, pred_f))\n",
        "    test_df = pd.concat([test_df, pred_df], axis=1)\n",
        "\n",
        "# 標準化\n",
        "scaler = StandardScaler()\n",
        "std_train = scaler.fit_transform(train_df.iloc[:,i+5].values)\n",
        "std_test = scaler.transform(test_df.iloc[:,i+5].values)"
      ],
      "execution_count": null,
      "outputs": []
    },
    {
      "cell_type": "markdown",
      "metadata": {
        "id": "qjOoQA7THDe-"
      },
      "source": [
        "# ５. アンサンブル評価\n",
        "各種アンサンブル手法に対しパラメータを探索し、提出ファイルを作成します。"
      ]
    },
    {
      "cell_type": "markdown",
      "metadata": {
        "id": "ud-emR_QiOEw"
      },
      "source": [
        "## 5.1 基準スコア\n",
        "アンサンブルを行わない状態でのスコアを算出し、基準とします。"
      ]
    },
    {
      "cell_type": "code",
      "metadata": {
        "id": "LWI2NVuvHQ4J"
      },
      "source": [
        "def opt_fbeta_threshold(y_true, y_pred):\n",
        "    \"\"\"\n",
        "    fbeta score計算時のthresholdを最適化\n",
        "    \"\"\"\n",
        "    def opt_(x): \n",
        "        return -fbeta_score(y_true, y_pred >= x, beta=7)\n",
        "    result = minimize(opt_, x0=0.1, method='Powell') \n",
        "    best_threshold = result['x'].item()\n",
        "    return best_threshold\n",
        "\n",
        "\n",
        "def metrics(y_true, y_pred):\n",
        "    \"\"\"\n",
        "    fbeta(beta=7)の閾値最適化評価関数\n",
        "    \"\"\"\n",
        "    bt = opt_fbeta_threshold(y_true, y_pred)\n",
        "    # print(f\"bt:{bt}\")\n",
        "    score = fbeta_score(y_true, y_pred >= bt, beta=7)\n",
        "    return score"
      ],
      "execution_count": null,
      "outputs": []
    },
    {
      "cell_type": "code",
      "metadata": {
        "colab": {
          "base_uri": "https://localhost:8080/"
        },
        "id": "Fbjtdqp8iNoa",
        "outputId": "ad3b9bc5-abd3-4004-9a66-61cf01980c44"
      },
      "source": [
        "base_score_list = []\n",
        "for i in range(len(oof_file_names)):\n",
        "    base_score = metrics(train_df.judgement.values, train_df.iloc[:,i+5].values)\n",
        "    base_score_list.append(base_score)\n",
        "\n",
        "base_score_list"
      ],
      "execution_count": null,
      "outputs": [
        {
          "output_type": "execute_result",
          "data": {
            "text/plain": [
              "[0.9129741599735282,\n",
              " 0.9081902245706738,\n",
              " 0.9209888511875909,\n",
              " 0.9116578054128742,\n",
              " 0.91827781307676,\n",
              " 0.904078728954233,\n",
              " 0.9068252109419571,\n",
              " 0.9170749193452024,\n",
              " 0.9098552639481112]"
            ]
          },
          "metadata": {},
          "execution_count": 143
        }
      ]
    },
    {
      "cell_type": "markdown",
      "metadata": {
        "id": "i_S-qM47iMTt"
      },
      "source": [
        "## 5.2 random tree model"
      ]
    },
    {
      "cell_type": "code",
      "metadata": {
        "id": "VBxq6gGSeLHD"
      },
      "source": [
        "# 探索するパラメータ空間\n",
        "params = {\n",
        "    \"max_depth\":np.arange(1, 10, 1),\n",
        "    \"n_estimators\":np.arange(3, 100, 2)\n",
        "    }\n",
        "\n",
        "# 指標の準備\n",
        "ftwo_scorer = make_scorer(fbeta_score, beta=2)\n",
        "\n",
        "# modelの準備\n",
        "rf_model = RandomForestClassifier(class_weight=\"balanced\")\n",
        "\n",
        "# 探索実行\n",
        "gscv = GridSearchCV(rf_model, params, cv=5, verbose=1, scoring=ftwo_scorer)\n",
        "gscv.fit(train_df.iloc[:,i+5].values, train_df.judgement.values)\n",
        "\n",
        "# 結果表示\n",
        "print(f\"best params : {gscv.best_params_}, best score : {gscv.best_score_}\")"
      ],
      "execution_count": null,
      "outputs": []
    },
    {
      "cell_type": "code",
      "metadata": {
        "id": "fagP2lGI9Zv-"
      },
      "source": [
        "# best modelで予測\n",
        "best_model = gscv.best_estimator_\n",
        "pred = best_model.predict(test_df.iloc[:,4:])\n",
        "\n",
        "# 提出ファイルの保存\n",
        "submit_df = pd.read_csv(os.path.join(INPUT, \"sample_submit.csv\"), \n",
        "                        header=None, names=[\"id\", \"judgement\"])\n",
        "submit_df[\"judgement\"] = pred.astype(np.int16)\n",
        "submit_df.to_csv(os.path.join(SUBMIT, \"ensemble_1004_rf.csv\"), index=False, header=False)\n",
        "submit_df"
      ],
      "execution_count": null,
      "outputs": []
    },
    {
      "cell_type": "markdown",
      "metadata": {
        "id": "y5_uLzN5UQqs"
      },
      "source": [
        "## 5.3 decision model"
      ]
    },
    {
      "cell_type": "code",
      "metadata": {
        "id": "Uv9Ccr_inb1U"
      },
      "source": [
        "# 探索するパラメータ空間\n",
        "params = {\n",
        "    \"max_depth\":np.arange(1, 10, 1)\n",
        "    }\n",
        "\n",
        "# 指標の準備\n",
        "ftwo_scorer = make_scorer(fbeta_score, beta=2)\n",
        "\n",
        "# modelの準備\n",
        "dt_model = DecisionTreeClassifier(max_depth=2, class_weight=\"balanced\")\n",
        "\n",
        "# 探索実行\n",
        "gscv = GridSearchCV(dt_model, params, cv=5, verbose=1, scoring=ftwo_scorer)\n",
        "gscv.fit(train_df.iloc[:,i+5].values, train_df.judgement.values)\n",
        "\n",
        "# 結果表示\n",
        "print(f\"best params : {gscv.best_params_}, best score : {gscv.best_score_}\")"
      ],
      "execution_count": null,
      "outputs": []
    },
    {
      "cell_type": "code",
      "metadata": {
        "colab": {
          "base_uri": "https://localhost:8080/",
          "height": 424
        },
        "id": "1Izfk1oQeD8i",
        "outputId": "bbd1bf4e-fece-41fd-f859-8bf023ac7da2"
      },
      "source": [
        "# best modelで予測\n",
        "best_model = gscv.best_estimator_\n",
        "pred = best_model.predict(test_df.iloc[:,4:])\n",
        "\n",
        "# 提出ファイルの保存\n",
        "submit_df = pd.read_csv(os.path.join(INPUT, \"sample_submit.csv\"), \n",
        "                        header=None, names=[\"id\", \"judgement\"])\n",
        "submit_df[\"judgement\"] = pred.astype(np.int16)\n",
        "submit_df.to_csv(os.path.join(SUBMIT, \"ensemble_1004_dt.csv\"), index=False, header=False)\n",
        "submit_df"
      ],
      "execution_count": null,
      "outputs": [
        {
          "output_type": "execute_result",
          "data": {
            "text/html": [
              "<div>\n",
              "<style scoped>\n",
              "    .dataframe tbody tr th:only-of-type {\n",
              "        vertical-align: middle;\n",
              "    }\n",
              "\n",
              "    .dataframe tbody tr th {\n",
              "        vertical-align: top;\n",
              "    }\n",
              "\n",
              "    .dataframe thead th {\n",
              "        text-align: right;\n",
              "    }\n",
              "</style>\n",
              "<table border=\"1\" class=\"dataframe\">\n",
              "  <thead>\n",
              "    <tr style=\"text-align: right;\">\n",
              "      <th></th>\n",
              "      <th>id</th>\n",
              "      <th>judgement</th>\n",
              "    </tr>\n",
              "  </thead>\n",
              "  <tbody>\n",
              "    <tr>\n",
              "      <th>0</th>\n",
              "      <td>27145</td>\n",
              "      <td>0</td>\n",
              "    </tr>\n",
              "    <tr>\n",
              "      <th>1</th>\n",
              "      <td>27146</td>\n",
              "      <td>0</td>\n",
              "    </tr>\n",
              "    <tr>\n",
              "      <th>2</th>\n",
              "      <td>27147</td>\n",
              "      <td>0</td>\n",
              "    </tr>\n",
              "    <tr>\n",
              "      <th>3</th>\n",
              "      <td>27148</td>\n",
              "      <td>0</td>\n",
              "    </tr>\n",
              "    <tr>\n",
              "      <th>4</th>\n",
              "      <td>27149</td>\n",
              "      <td>0</td>\n",
              "    </tr>\n",
              "    <tr>\n",
              "      <th>...</th>\n",
              "      <td>...</td>\n",
              "      <td>...</td>\n",
              "    </tr>\n",
              "    <tr>\n",
              "      <th>40829</th>\n",
              "      <td>67974</td>\n",
              "      <td>0</td>\n",
              "    </tr>\n",
              "    <tr>\n",
              "      <th>40830</th>\n",
              "      <td>67975</td>\n",
              "      <td>0</td>\n",
              "    </tr>\n",
              "    <tr>\n",
              "      <th>40831</th>\n",
              "      <td>67976</td>\n",
              "      <td>0</td>\n",
              "    </tr>\n",
              "    <tr>\n",
              "      <th>40832</th>\n",
              "      <td>67977</td>\n",
              "      <td>0</td>\n",
              "    </tr>\n",
              "    <tr>\n",
              "      <th>40833</th>\n",
              "      <td>67978</td>\n",
              "      <td>0</td>\n",
              "    </tr>\n",
              "  </tbody>\n",
              "</table>\n",
              "<p>40834 rows × 2 columns</p>\n",
              "</div>"
            ],
            "text/plain": [
              "          id  judgement\n",
              "0      27145          0\n",
              "1      27146          0\n",
              "2      27147          0\n",
              "3      27148          0\n",
              "4      27149          0\n",
              "...      ...        ...\n",
              "40829  67974          0\n",
              "40830  67975          0\n",
              "40831  67976          0\n",
              "40832  67977          0\n",
              "40833  67978          0\n",
              "\n",
              "[40834 rows x 2 columns]"
            ]
          },
          "metadata": {},
          "execution_count": 12
        }
      ]
    },
    {
      "cell_type": "markdown",
      "metadata": {
        "id": "KQr12_SdjKzF"
      },
      "source": [
        "## 5.4 svm model"
      ]
    },
    {
      "cell_type": "code",
      "metadata": {
        "id": "8SGhAX53nuhj"
      },
      "source": [
        "# 探索するパラメータ空間\n",
        "params =  {\n",
        "      'C':[1, 10, 100],\n",
        "      'kernel':['rbf', 'linear', 'poly'],\n",
        "      'degree':np.arange(1, 6, 1),\n",
        "      'gamma':np.linspace(0.01, 1.0, 50)\n",
        "      }\n",
        "\n",
        "# 指標の準備\n",
        "ftwo_scorer = make_scorer(fbeta_score, beta=2)\n",
        "\n",
        "# modelの準備\n",
        "svm_model = SVC(class_weight=\"balanced\")\n",
        "\n",
        "# 探索実行\n",
        "gscv = GridSearchCV(svm_model, params, cv=5, verbose=1, scoring=ftwo_scorer)\n",
        "gscv.fit(std_train, train_df.judgement.values)\n",
        "\n",
        "# 結果表示\n",
        "print(f\"best params : {gscv.best_params_}, best score : {gscv.best_score_}\")"
      ],
      "execution_count": null,
      "outputs": []
    },
    {
      "cell_type": "code",
      "metadata": {
        "colab": {
          "base_uri": "https://localhost:8080/",
          "height": 424
        },
        "id": "CdSlf8LVs0r4",
        "outputId": "f6ab1aec-91d7-4a44-82e3-7a40327a0ddb"
      },
      "source": [
        "# best modelで予測\n",
        "best_model = gscv.best_estimator_\n",
        "pred = best_model.predict(std_test)\n",
        "\n",
        "# 提出ファイルの保存\n",
        "submit_df = pd.read_csv(os.path.join(INPUT, \"sample_submit.csv\"), \n",
        "                        header=None, names=[\"id\", \"judgement\"])\n",
        "submit_df[\"judgement\"] = pred.astype(np.int16)\n",
        "submit_df.to_csv(os.path.join(SUBMIT, \"ensemble_1004_svm.csv\"), index=False, header=False)\n",
        "submit_df"
      ],
      "execution_count": null,
      "outputs": [
        {
          "output_type": "execute_result",
          "data": {
            "text/html": [
              "<div>\n",
              "<style scoped>\n",
              "    .dataframe tbody tr th:only-of-type {\n",
              "        vertical-align: middle;\n",
              "    }\n",
              "\n",
              "    .dataframe tbody tr th {\n",
              "        vertical-align: top;\n",
              "    }\n",
              "\n",
              "    .dataframe thead th {\n",
              "        text-align: right;\n",
              "    }\n",
              "</style>\n",
              "<table border=\"1\" class=\"dataframe\">\n",
              "  <thead>\n",
              "    <tr style=\"text-align: right;\">\n",
              "      <th></th>\n",
              "      <th>id</th>\n",
              "      <th>judgement</th>\n",
              "    </tr>\n",
              "  </thead>\n",
              "  <tbody>\n",
              "    <tr>\n",
              "      <th>0</th>\n",
              "      <td>27145</td>\n",
              "      <td>0</td>\n",
              "    </tr>\n",
              "    <tr>\n",
              "      <th>1</th>\n",
              "      <td>27146</td>\n",
              "      <td>0</td>\n",
              "    </tr>\n",
              "    <tr>\n",
              "      <th>2</th>\n",
              "      <td>27147</td>\n",
              "      <td>0</td>\n",
              "    </tr>\n",
              "    <tr>\n",
              "      <th>3</th>\n",
              "      <td>27148</td>\n",
              "      <td>0</td>\n",
              "    </tr>\n",
              "    <tr>\n",
              "      <th>4</th>\n",
              "      <td>27149</td>\n",
              "      <td>0</td>\n",
              "    </tr>\n",
              "    <tr>\n",
              "      <th>...</th>\n",
              "      <td>...</td>\n",
              "      <td>...</td>\n",
              "    </tr>\n",
              "    <tr>\n",
              "      <th>40829</th>\n",
              "      <td>67974</td>\n",
              "      <td>0</td>\n",
              "    </tr>\n",
              "    <tr>\n",
              "      <th>40830</th>\n",
              "      <td>67975</td>\n",
              "      <td>0</td>\n",
              "    </tr>\n",
              "    <tr>\n",
              "      <th>40831</th>\n",
              "      <td>67976</td>\n",
              "      <td>0</td>\n",
              "    </tr>\n",
              "    <tr>\n",
              "      <th>40832</th>\n",
              "      <td>67977</td>\n",
              "      <td>1</td>\n",
              "    </tr>\n",
              "    <tr>\n",
              "      <th>40833</th>\n",
              "      <td>67978</td>\n",
              "      <td>0</td>\n",
              "    </tr>\n",
              "  </tbody>\n",
              "</table>\n",
              "<p>40834 rows × 2 columns</p>\n",
              "</div>"
            ],
            "text/plain": [
              "          id  judgement\n",
              "0      27145          0\n",
              "1      27146          0\n",
              "2      27147          0\n",
              "3      27148          0\n",
              "4      27149          0\n",
              "...      ...        ...\n",
              "40829  67974          0\n",
              "40830  67975          0\n",
              "40831  67976          0\n",
              "40832  67977          1\n",
              "40833  67978          0\n",
              "\n",
              "[40834 rows x 2 columns]"
            ]
          },
          "metadata": {},
          "execution_count": 175
        }
      ]
    },
    {
      "cell_type": "markdown",
      "metadata": {
        "id": "-gb5Bm8SObUZ"
      },
      "source": [
        "## 5.5 logistic regression"
      ]
    },
    {
      "cell_type": "code",
      "metadata": {
        "id": "_JQhjKznOKlu"
      },
      "source": [
        "# 探索するパラメータ空間\n",
        "params =  {\n",
        "      'C':np.arange(1,10,1),\n",
        "      }\n",
        "\n",
        "# 指標の準備\n",
        "ftwo_scorer = make_scorer(fbeta_score, beta=2)\n",
        "\n",
        "# modelの準備\n",
        "lr_model =  LogisticRegression(class_weight=\"balanced\")\n",
        "\n",
        "# 探索実行\n",
        "gscv = GridSearchCV(lr_model, params, cv=5, verbose=1, scoring=ftwo_scorer)\n",
        "gscv.fit(std_train, train_df.judgement.values)\n",
        "\n",
        "# 結果表示\n",
        "print(f\"best params : {gscv.best_params_}, best score : {gscv.best_score_}\")"
      ],
      "execution_count": null,
      "outputs": []
    },
    {
      "cell_type": "code",
      "metadata": {
        "id": "tS-tsa-QtLHl"
      },
      "source": [
        "# best modelで予測\n",
        "best_model = gscv.best_estimator_\n",
        "pred = best_model.predict(std_test)\n",
        "\n",
        "# 提出ファイルの保存\n",
        "submit_df = pd.read_csv(os.path.join(INPUT, \"sample_submit.csv\"), \n",
        "                        header=None, names=[\"id\", \"judgement\"])\n",
        "submit_df[\"judgement\"] = pred.astype(np.int16)\n",
        "submit_df.to_csv(os.path.join(SUBMIT, \"ensemble_1004_lr.csv\"), index=False, header=False)\n",
        "submit_df"
      ],
      "execution_count": null,
      "outputs": []
    }
  ]
}